{
 "cells": [
  {
   "cell_type": "markdown",
   "metadata": {},
   "source": [
    "### Deliverable 1: Preprocessing the Data for a Neural Network"
   ]
  },
  {
   "cell_type": "code",
   "execution_count": 1,
   "metadata": {},
   "outputs": [
    {
     "data": {
      "text/html": [
       "<div>\n",
       "<style scoped>\n",
       "    .dataframe tbody tr th:only-of-type {\n",
       "        vertical-align: middle;\n",
       "    }\n",
       "\n",
       "    .dataframe tbody tr th {\n",
       "        vertical-align: top;\n",
       "    }\n",
       "\n",
       "    .dataframe thead th {\n",
       "        text-align: right;\n",
       "    }\n",
       "</style>\n",
       "<table border=\"1\" class=\"dataframe\">\n",
       "  <thead>\n",
       "    <tr style=\"text-align: right;\">\n",
       "      <th></th>\n",
       "      <th>EIN</th>\n",
       "      <th>NAME</th>\n",
       "      <th>APPLICATION_TYPE</th>\n",
       "      <th>AFFILIATION</th>\n",
       "      <th>CLASSIFICATION</th>\n",
       "      <th>USE_CASE</th>\n",
       "      <th>ORGANIZATION</th>\n",
       "      <th>STATUS</th>\n",
       "      <th>INCOME_AMT</th>\n",
       "      <th>SPECIAL_CONSIDERATIONS</th>\n",
       "      <th>ASK_AMT</th>\n",
       "      <th>IS_SUCCESSFUL</th>\n",
       "    </tr>\n",
       "  </thead>\n",
       "  <tbody>\n",
       "    <tr>\n",
       "      <th>0</th>\n",
       "      <td>10520599</td>\n",
       "      <td>BLUE KNIGHTS MOTORCYCLE CLUB</td>\n",
       "      <td>T10</td>\n",
       "      <td>Independent</td>\n",
       "      <td>C1000</td>\n",
       "      <td>ProductDev</td>\n",
       "      <td>Association</td>\n",
       "      <td>1</td>\n",
       "      <td>0</td>\n",
       "      <td>N</td>\n",
       "      <td>5000</td>\n",
       "      <td>1</td>\n",
       "    </tr>\n",
       "    <tr>\n",
       "      <th>1</th>\n",
       "      <td>10531628</td>\n",
       "      <td>AMERICAN CHESAPEAKE CLUB CHARITABLE TR</td>\n",
       "      <td>T3</td>\n",
       "      <td>Independent</td>\n",
       "      <td>C2000</td>\n",
       "      <td>Preservation</td>\n",
       "      <td>Co-operative</td>\n",
       "      <td>1</td>\n",
       "      <td>1-9999</td>\n",
       "      <td>N</td>\n",
       "      <td>108590</td>\n",
       "      <td>1</td>\n",
       "    </tr>\n",
       "    <tr>\n",
       "      <th>2</th>\n",
       "      <td>10547893</td>\n",
       "      <td>ST CLOUD PROFESSIONAL FIREFIGHTERS</td>\n",
       "      <td>T5</td>\n",
       "      <td>CompanySponsored</td>\n",
       "      <td>C3000</td>\n",
       "      <td>ProductDev</td>\n",
       "      <td>Association</td>\n",
       "      <td>1</td>\n",
       "      <td>0</td>\n",
       "      <td>N</td>\n",
       "      <td>5000</td>\n",
       "      <td>0</td>\n",
       "    </tr>\n",
       "    <tr>\n",
       "      <th>3</th>\n",
       "      <td>10553066</td>\n",
       "      <td>SOUTHSIDE ATHLETIC ASSOCIATION</td>\n",
       "      <td>T3</td>\n",
       "      <td>CompanySponsored</td>\n",
       "      <td>C2000</td>\n",
       "      <td>Preservation</td>\n",
       "      <td>Trust</td>\n",
       "      <td>1</td>\n",
       "      <td>10000-24999</td>\n",
       "      <td>N</td>\n",
       "      <td>6692</td>\n",
       "      <td>1</td>\n",
       "    </tr>\n",
       "    <tr>\n",
       "      <th>4</th>\n",
       "      <td>10556103</td>\n",
       "      <td>GENETIC RESEARCH INSTITUTE OF THE DESERT</td>\n",
       "      <td>T3</td>\n",
       "      <td>Independent</td>\n",
       "      <td>C1000</td>\n",
       "      <td>Heathcare</td>\n",
       "      <td>Trust</td>\n",
       "      <td>1</td>\n",
       "      <td>100000-499999</td>\n",
       "      <td>N</td>\n",
       "      <td>142590</td>\n",
       "      <td>1</td>\n",
       "    </tr>\n",
       "  </tbody>\n",
       "</table>\n",
       "</div>"
      ],
      "text/plain": [
       "        EIN                                      NAME APPLICATION_TYPE  \\\n",
       "0  10520599              BLUE KNIGHTS MOTORCYCLE CLUB              T10   \n",
       "1  10531628    AMERICAN CHESAPEAKE CLUB CHARITABLE TR               T3   \n",
       "2  10547893        ST CLOUD PROFESSIONAL FIREFIGHTERS               T5   \n",
       "3  10553066            SOUTHSIDE ATHLETIC ASSOCIATION               T3   \n",
       "4  10556103  GENETIC RESEARCH INSTITUTE OF THE DESERT               T3   \n",
       "\n",
       "        AFFILIATION CLASSIFICATION      USE_CASE  ORGANIZATION  STATUS  \\\n",
       "0       Independent          C1000    ProductDev   Association       1   \n",
       "1       Independent          C2000  Preservation  Co-operative       1   \n",
       "2  CompanySponsored          C3000    ProductDev   Association       1   \n",
       "3  CompanySponsored          C2000  Preservation         Trust       1   \n",
       "4       Independent          C1000     Heathcare         Trust       1   \n",
       "\n",
       "      INCOME_AMT SPECIAL_CONSIDERATIONS  ASK_AMT  IS_SUCCESSFUL  \n",
       "0              0                      N     5000              1  \n",
       "1         1-9999                      N   108590              1  \n",
       "2              0                      N     5000              0  \n",
       "3    10000-24999                      N     6692              1  \n",
       "4  100000-499999                      N   142590              1  "
      ]
     },
     "execution_count": 1,
     "metadata": {},
     "output_type": "execute_result"
    }
   ],
   "source": [
    "# Import our dependencies\n",
    "from sklearn.model_selection import train_test_split\n",
    "from sklearn.preprocessing import StandardScaler,OneHotEncoder\n",
    "import pandas as pd\n",
    "import tensorflow as tf\n",
    "\n",
    "#  Import and read the charity_data.csv.\n",
    "import pandas as pd \n",
    "application_df = pd.read_csv(\"Resources/charity_data.csv\")\n",
    "application_df.head()"
   ]
  },
  {
   "cell_type": "code",
   "execution_count": 2,
   "metadata": {},
   "outputs": [
    {
     "data": {
      "text/plain": [
       "1    34294\n",
       "0        5\n",
       "Name: STATUS, dtype: int64"
      ]
     },
     "execution_count": 2,
     "metadata": {},
     "output_type": "execute_result"
    }
   ],
   "source": [
    "application_df[\"STATUS\"].value_counts()"
   ]
  },
  {
   "cell_type": "code",
   "execution_count": 3,
   "metadata": {},
   "outputs": [
    {
     "data": {
      "text/plain": [
       "N    34272\n",
       "Y       27\n",
       "Name: SPECIAL_CONSIDERATIONS, dtype: int64"
      ]
     },
     "execution_count": 3,
     "metadata": {},
     "output_type": "execute_result"
    }
   ],
   "source": [
    "application_df[\"SPECIAL_CONSIDERATIONS\"].value_counts()"
   ]
  },
  {
   "cell_type": "code",
   "execution_count": 4,
   "metadata": {},
   "outputs": [],
   "source": [
    "application_df.drop(application_df[application_df.SPECIAL_CONSIDERATIONS == 'Y'].index, inplace=True)\n",
    "#application_df.drop(application_df[application_df.STATUS == 0].index, inplace=True)"
   ]
  },
  {
   "cell_type": "code",
   "execution_count": 5,
   "metadata": {},
   "outputs": [],
   "source": [
    "# Drop the non-beneficial ID columns, 'EIN' and 'NAME'.\n",
    "application_df = application_df.drop(columns=['EIN', 'NAME','SPECIAL_CONSIDERATIONS'])"
   ]
  },
  {
   "cell_type": "code",
   "execution_count": 6,
   "metadata": {},
   "outputs": [
    {
     "data": {
      "text/plain": [
       "APPLICATION_TYPE      17\n",
       "AFFILIATION            6\n",
       "CLASSIFICATION        71\n",
       "USE_CASE               5\n",
       "ORGANIZATION           4\n",
       "STATUS                 2\n",
       "INCOME_AMT             9\n",
       "ASK_AMT             8741\n",
       "IS_SUCCESSFUL          2\n",
       "dtype: int64"
      ]
     },
     "execution_count": 6,
     "metadata": {},
     "output_type": "execute_result"
    }
   ],
   "source": [
    "# Determine the number of unique values in each column.\n",
    "application_df.nunique()"
   ]
  },
  {
   "cell_type": "code",
   "execution_count": 7,
   "metadata": {},
   "outputs": [
    {
     "data": {
      "text/plain": [
       "0        1\n",
       "1        1\n",
       "2        0\n",
       "3        1\n",
       "4        1\n",
       "        ..\n",
       "34294    0\n",
       "34295    0\n",
       "34296    0\n",
       "34297    1\n",
       "34298    0\n",
       "Name: IS_SUCCESSFUL, Length: 34272, dtype: int64"
      ]
     },
     "execution_count": 7,
     "metadata": {},
     "output_type": "execute_result"
    }
   ],
   "source": [
    "application_df[\"IS_SUCCESSFUL\"]"
   ]
  },
  {
   "cell_type": "code",
   "execution_count": 8,
   "metadata": {},
   "outputs": [
    {
     "data": {
      "text/plain": [
       "5000        25378\n",
       "6725            3\n",
       "15583           3\n",
       "63981           3\n",
       "10478           3\n",
       "            ...  \n",
       "5371754         1\n",
       "30060           1\n",
       "43091152        1\n",
       "18683           1\n",
       "36500179        1\n",
       "Name: ASK_AMT, Length: 8741, dtype: int64"
      ]
     },
     "execution_count": 8,
     "metadata": {},
     "output_type": "execute_result"
    }
   ],
   "source": [
    "ask_counts = application_df[\"ASK_AMT\"].value_counts()\n",
    "ask_counts"
   ]
  },
  {
   "cell_type": "code",
   "execution_count": 9,
   "metadata": {},
   "outputs": [
    {
     "data": {
      "text/plain": [
       "5000        25378\n",
       "63981           3\n",
       "15583           3\n",
       "6725            3\n",
       "10478           3\n",
       "            ...  \n",
       "5758045         1\n",
       "1806891         1\n",
       "26087139        1\n",
       "818340          1\n",
       "36500179        1\n",
       "Name: ASK_AMT, Length: 8640, dtype: int64"
      ]
     },
     "execution_count": 9,
     "metadata": {},
     "output_type": "execute_result"
    }
   ],
   "source": [
    "# Dropping\n",
    "application_df.drop(application_df[application_df.ASK_AMT > 99000000].index, inplace=True)\n",
    "application_df.drop(application_df[application_df.ASK_AMT < 1].index, inplace=True)\n",
    "    \n",
    "application_df.ASK_AMT.value_counts()"
   ]
  },
  {
   "cell_type": "code",
   "execution_count": 10,
   "metadata": {},
   "outputs": [
    {
     "data": {
      "text/plain": [
       "0            5000\n",
       "1          108590\n",
       "2            5000\n",
       "3            6692\n",
       "4          142590\n",
       "           ...   \n",
       "34294        5000\n",
       "34295        5000\n",
       "34296        5000\n",
       "34297        5000\n",
       "34298    36500179\n",
       "Name: ASK_AMT, Length: 34171, dtype: int64"
      ]
     },
     "execution_count": 10,
     "metadata": {},
     "output_type": "execute_result"
    }
   ],
   "source": [
    "ask_counts = application_df[\"ASK_AMT\"]\n",
    "ask_counts"
   ]
  },
  {
   "cell_type": "code",
   "execution_count": null,
   "metadata": {},
   "outputs": [],
   "source": []
  },
  {
   "cell_type": "code",
   "execution_count": 11,
   "metadata": {},
   "outputs": [
    {
     "data": {
      "text/plain": [
       "0            5000\n",
       "1          108590\n",
       "2            5000\n",
       "3            6692\n",
       "4          142590\n",
       "           ...   \n",
       "34294        5000\n",
       "34295        5000\n",
       "34296        5000\n",
       "34297        5000\n",
       "34298    36500179\n",
       "Name: ASK_AMT, Length: 34171, dtype: int64"
      ]
     },
     "execution_count": 11,
     "metadata": {},
     "output_type": "execute_result"
    }
   ],
   "source": [
    "ask_counts = application_df[\"ASK_AMT\"]\n",
    "ask_counts"
   ]
  },
  {
   "cell_type": "code",
   "execution_count": 12,
   "metadata": {},
   "outputs": [
    {
     "data": {
      "text/plain": [
       "T3     26918\n",
       "T4      1542\n",
       "T6      1216\n",
       "T5      1172\n",
       "T19     1065\n",
       "T8       737\n",
       "T7       725\n",
       "T10      528\n",
       "T9       151\n",
       "T13       66\n",
       "T12       26\n",
       "T2        16\n",
       "T25        3\n",
       "T29        2\n",
       "T15        2\n",
       "T14        1\n",
       "T17        1\n",
       "Name: APPLICATION_TYPE, dtype: int64"
      ]
     },
     "execution_count": 12,
     "metadata": {},
     "output_type": "execute_result"
    }
   ],
   "source": [
    "# Look at APPLICATION_TYPE value counts for binning\n",
    "appt_counts = application_df[\"APPLICATION_TYPE\"].value_counts()\n",
    "appt_counts"
   ]
  },
  {
   "cell_type": "code",
   "execution_count": 13,
   "metadata": {},
   "outputs": [
    {
     "data": {
      "text/plain": [
       "<AxesSubplot:ylabel='Density'>"
      ]
     },
     "execution_count": 13,
     "metadata": {},
     "output_type": "execute_result"
    },
    {
     "data": {
      "image/png": "[encoded data removed]",
      "text/plain": [
       "<Figure size 432x288 with 1 Axes>"
      ]
     },
     "metadata": {
      "needs_background": "light"
     },
     "output_type": "display_data"
    }
   ],
   "source": [
    "# Visualize the value counts of APPLICATION_TYPE\n",
    "appt_counts.plot.density()"
   ]
  },
  {
   "cell_type": "code",
   "execution_count": 14,
   "metadata": {},
   "outputs": [
    {
     "data": {
      "text/plain": [
       "T3       26918\n",
       "T4        1542\n",
       "T6        1216\n",
       "T5        1172\n",
       "T19       1065\n",
       "T8         737\n",
       "T7         725\n",
       "T10        528\n",
       "T9         151\n",
       "Other      117\n",
       "Name: APPLICATION_TYPE, dtype: int64"
      ]
     },
     "execution_count": 14,
     "metadata": {},
     "output_type": "execute_result"
    }
   ],
   "source": [
    "# Determine which values to replace if counts are less than ...?\n",
    "replace_application = list(appt_counts[appt_counts < 150].index)\n",
    "\n",
    "# Replace in dataframe\n",
    "for app in replace_application:\n",
    "    application_df.APPLICATION_TYPE = application_df.APPLICATION_TYPE.replace(app,\"Other\")\n",
    "    \n",
    "# Check to make sure binning was successful\n",
    "application_df.APPLICATION_TYPE.value_counts()"
   ]
  },
  {
   "cell_type": "code",
   "execution_count": 15,
   "metadata": {},
   "outputs": [
    {
     "data": {
      "text/plain": [
       "C1000    17241\n",
       "C2000     6055\n",
       "C1200     4822\n",
       "C3000     1917\n",
       "C2100     1883\n",
       "         ...  \n",
       "C4120        1\n",
       "C8210        1\n",
       "C2561        1\n",
       "C4500        1\n",
       "C2150        1\n",
       "Name: CLASSIFICATION, Length: 71, dtype: int64"
      ]
     },
     "execution_count": 15,
     "metadata": {},
     "output_type": "execute_result"
    }
   ],
   "source": [
    "# Look at CLASSIFICATION value counts for binning\n",
    "classi_counts = application_df[\"CLASSIFICATION\"].value_counts()\n",
    "classi_counts"
   ]
  },
  {
   "cell_type": "code",
   "execution_count": 16,
   "metadata": {},
   "outputs": [
    {
     "data": {
      "text/plain": [
       "<AxesSubplot:ylabel='Density'>"
      ]
     },
     "execution_count": 16,
     "metadata": {},
     "output_type": "execute_result"
    },
    {
     "data": {
      "image/png": "[encoded data removed]",
      "text/plain": [
       "<Figure size 432x288 with 1 Axes>"
      ]
     },
     "metadata": {
      "needs_background": "light"
     },
     "output_type": "display_data"
    }
   ],
   "source": [
    "# Visualize the value counts of CLASSIFICATION\n",
    "classi_counts.plot.density()"
   ]
  },
  {
   "cell_type": "code",
   "execution_count": 17,
   "metadata": {},
   "outputs": [
    {
     "data": {
      "text/plain": [
       "C1000    17241\n",
       "C2000     6055\n",
       "C1200     4822\n",
       "Other     2253\n",
       "C3000     1917\n",
       "C2100     1883\n",
       "Name: CLASSIFICATION, dtype: int64"
      ]
     },
     "execution_count": 17,
     "metadata": {},
     "output_type": "execute_result"
    }
   ],
   "source": [
    "# Determine which values to replace if counts are less than ..?\n",
    "replace_class = list(classi_counts[classi_counts < 1800].index)\n",
    "\n",
    "# Replace in dataframe\n",
    "for cls in replace_class:\n",
    "    application_df.CLASSIFICATION = application_df.CLASSIFICATION.replace(cls,\"Other\")\n",
    "    \n",
    "# Check to make sure binning was successful\n",
    "application_df.CLASSIFICATION.value_counts()"
   ]
  },
  {
   "cell_type": "code",
   "execution_count": 18,
   "metadata": {},
   "outputs": [],
   "source": [
    "# Generate our categorical variable lists\n",
    "application_cat = application_df.dtypes[application_df.dtypes == \"object\"].index.tolist()"
   ]
  },
  {
   "cell_type": "code",
   "execution_count": 19,
   "metadata": {},
   "outputs": [
    {
     "name": "stderr",
     "output_type": "stream",
     "text": [
      "C:\\Users\\Kyle\\anaconda3\\envs\\mlenv\\lib\\site-packages\\sklearn\\utils\\deprecation.py:87: FutureWarning: Function get_feature_names is deprecated; get_feature_names is deprecated in 1.0 and will be removed in 1.2. Please use get_feature_names_out instead.\n",
      "  warnings.warn(msg, category=FutureWarning)\n"
     ]
    },
    {
     "data": {
      "text/html": [
       "<div>\n",
       "<style scoped>\n",
       "    .dataframe tbody tr th:only-of-type {\n",
       "        vertical-align: middle;\n",
       "    }\n",
       "\n",
       "    .dataframe tbody tr th {\n",
       "        vertical-align: top;\n",
       "    }\n",
       "\n",
       "    .dataframe thead th {\n",
       "        text-align: right;\n",
       "    }\n",
       "</style>\n",
       "<table border=\"1\" class=\"dataframe\">\n",
       "  <thead>\n",
       "    <tr style=\"text-align: right;\">\n",
       "      <th></th>\n",
       "      <th>APPLICATION_TYPE_Other</th>\n",
       "      <th>APPLICATION_TYPE_T10</th>\n",
       "      <th>APPLICATION_TYPE_T19</th>\n",
       "      <th>APPLICATION_TYPE_T3</th>\n",
       "      <th>APPLICATION_TYPE_T4</th>\n",
       "      <th>APPLICATION_TYPE_T5</th>\n",
       "      <th>APPLICATION_TYPE_T6</th>\n",
       "      <th>APPLICATION_TYPE_T7</th>\n",
       "      <th>APPLICATION_TYPE_T8</th>\n",
       "      <th>APPLICATION_TYPE_T9</th>\n",
       "      <th>...</th>\n",
       "      <th>ORGANIZATION_Trust</th>\n",
       "      <th>INCOME_AMT_0</th>\n",
       "      <th>INCOME_AMT_1-9999</th>\n",
       "      <th>INCOME_AMT_10000-24999</th>\n",
       "      <th>INCOME_AMT_100000-499999</th>\n",
       "      <th>INCOME_AMT_10M-50M</th>\n",
       "      <th>INCOME_AMT_1M-5M</th>\n",
       "      <th>INCOME_AMT_25000-99999</th>\n",
       "      <th>INCOME_AMT_50M+</th>\n",
       "      <th>INCOME_AMT_5M-10M</th>\n",
       "    </tr>\n",
       "  </thead>\n",
       "  <tbody>\n",
       "    <tr>\n",
       "      <th>0</th>\n",
       "      <td>0.0</td>\n",
       "      <td>1.0</td>\n",
       "      <td>0.0</td>\n",
       "      <td>0.0</td>\n",
       "      <td>0.0</td>\n",
       "      <td>0.0</td>\n",
       "      <td>0.0</td>\n",
       "      <td>0.0</td>\n",
       "      <td>0.0</td>\n",
       "      <td>0.0</td>\n",
       "      <td>...</td>\n",
       "      <td>0.0</td>\n",
       "      <td>1.0</td>\n",
       "      <td>0.0</td>\n",
       "      <td>0.0</td>\n",
       "      <td>0.0</td>\n",
       "      <td>0.0</td>\n",
       "      <td>0.0</td>\n",
       "      <td>0.0</td>\n",
       "      <td>0.0</td>\n",
       "      <td>0.0</td>\n",
       "    </tr>\n",
       "    <tr>\n",
       "      <th>1</th>\n",
       "      <td>0.0</td>\n",
       "      <td>0.0</td>\n",
       "      <td>0.0</td>\n",
       "      <td>1.0</td>\n",
       "      <td>0.0</td>\n",
       "      <td>0.0</td>\n",
       "      <td>0.0</td>\n",
       "      <td>0.0</td>\n",
       "      <td>0.0</td>\n",
       "      <td>0.0</td>\n",
       "      <td>...</td>\n",
       "      <td>0.0</td>\n",
       "      <td>0.0</td>\n",
       "      <td>1.0</td>\n",
       "      <td>0.0</td>\n",
       "      <td>0.0</td>\n",
       "      <td>0.0</td>\n",
       "      <td>0.0</td>\n",
       "      <td>0.0</td>\n",
       "      <td>0.0</td>\n",
       "      <td>0.0</td>\n",
       "    </tr>\n",
       "    <tr>\n",
       "      <th>2</th>\n",
       "      <td>0.0</td>\n",
       "      <td>0.0</td>\n",
       "      <td>0.0</td>\n",
       "      <td>0.0</td>\n",
       "      <td>0.0</td>\n",
       "      <td>1.0</td>\n",
       "      <td>0.0</td>\n",
       "      <td>0.0</td>\n",
       "      <td>0.0</td>\n",
       "      <td>0.0</td>\n",
       "      <td>...</td>\n",
       "      <td>0.0</td>\n",
       "      <td>1.0</td>\n",
       "      <td>0.0</td>\n",
       "      <td>0.0</td>\n",
       "      <td>0.0</td>\n",
       "      <td>0.0</td>\n",
       "      <td>0.0</td>\n",
       "      <td>0.0</td>\n",
       "      <td>0.0</td>\n",
       "      <td>0.0</td>\n",
       "    </tr>\n",
       "    <tr>\n",
       "      <th>3</th>\n",
       "      <td>0.0</td>\n",
       "      <td>0.0</td>\n",
       "      <td>0.0</td>\n",
       "      <td>1.0</td>\n",
       "      <td>0.0</td>\n",
       "      <td>0.0</td>\n",
       "      <td>0.0</td>\n",
       "      <td>0.0</td>\n",
       "      <td>0.0</td>\n",
       "      <td>0.0</td>\n",
       "      <td>...</td>\n",
       "      <td>1.0</td>\n",
       "      <td>0.0</td>\n",
       "      <td>0.0</td>\n",
       "      <td>1.0</td>\n",
       "      <td>0.0</td>\n",
       "      <td>0.0</td>\n",
       "      <td>0.0</td>\n",
       "      <td>0.0</td>\n",
       "      <td>0.0</td>\n",
       "      <td>0.0</td>\n",
       "    </tr>\n",
       "    <tr>\n",
       "      <th>4</th>\n",
       "      <td>0.0</td>\n",
       "      <td>0.0</td>\n",
       "      <td>0.0</td>\n",
       "      <td>1.0</td>\n",
       "      <td>0.0</td>\n",
       "      <td>0.0</td>\n",
       "      <td>0.0</td>\n",
       "      <td>0.0</td>\n",
       "      <td>0.0</td>\n",
       "      <td>0.0</td>\n",
       "      <td>...</td>\n",
       "      <td>1.0</td>\n",
       "      <td>0.0</td>\n",
       "      <td>0.0</td>\n",
       "      <td>0.0</td>\n",
       "      <td>1.0</td>\n",
       "      <td>0.0</td>\n",
       "      <td>0.0</td>\n",
       "      <td>0.0</td>\n",
       "      <td>0.0</td>\n",
       "      <td>0.0</td>\n",
       "    </tr>\n",
       "  </tbody>\n",
       "</table>\n",
       "<p>5 rows × 40 columns</p>\n",
       "</div>"
      ],
      "text/plain": [
       "   APPLICATION_TYPE_Other  APPLICATION_TYPE_T10  APPLICATION_TYPE_T19  \\\n",
       "0                     0.0                   1.0                   0.0   \n",
       "1                     0.0                   0.0                   0.0   \n",
       "2                     0.0                   0.0                   0.0   \n",
       "3                     0.0                   0.0                   0.0   \n",
       "4                     0.0                   0.0                   0.0   \n",
       "\n",
       "   APPLICATION_TYPE_T3  APPLICATION_TYPE_T4  APPLICATION_TYPE_T5  \\\n",
       "0                  0.0                  0.0                  0.0   \n",
       "1                  1.0                  0.0                  0.0   \n",
       "2                  0.0                  0.0                  1.0   \n",
       "3                  1.0                  0.0                  0.0   \n",
       "4                  1.0                  0.0                  0.0   \n",
       "\n",
       "   APPLICATION_TYPE_T6  APPLICATION_TYPE_T7  APPLICATION_TYPE_T8  \\\n",
       "0                  0.0                  0.0                  0.0   \n",
       "1                  0.0                  0.0                  0.0   \n",
       "2                  0.0                  0.0                  0.0   \n",
       "3                  0.0                  0.0                  0.0   \n",
       "4                  0.0                  0.0                  0.0   \n",
       "\n",
       "   APPLICATION_TYPE_T9  ...  ORGANIZATION_Trust  INCOME_AMT_0  \\\n",
       "0                  0.0  ...                 0.0           1.0   \n",
       "1                  0.0  ...                 0.0           0.0   \n",
       "2                  0.0  ...                 0.0           1.0   \n",
       "3                  0.0  ...                 1.0           0.0   \n",
       "4                  0.0  ...                 1.0           0.0   \n",
       "\n",
       "   INCOME_AMT_1-9999  INCOME_AMT_10000-24999  INCOME_AMT_100000-499999  \\\n",
       "0                0.0                     0.0                       0.0   \n",
       "1                1.0                     0.0                       0.0   \n",
       "2                0.0                     0.0                       0.0   \n",
       "3                0.0                     1.0                       0.0   \n",
       "4                0.0                     0.0                       1.0   \n",
       "\n",
       "   INCOME_AMT_10M-50M  INCOME_AMT_1M-5M  INCOME_AMT_25000-99999  \\\n",
       "0                 0.0               0.0                     0.0   \n",
       "1                 0.0               0.0                     0.0   \n",
       "2                 0.0               0.0                     0.0   \n",
       "3                 0.0               0.0                     0.0   \n",
       "4                 0.0               0.0                     0.0   \n",
       "\n",
       "   INCOME_AMT_50M+  INCOME_AMT_5M-10M  \n",
       "0              0.0                0.0  \n",
       "1              0.0                0.0  \n",
       "2              0.0                0.0  \n",
       "3              0.0                0.0  \n",
       "4              0.0                0.0  \n",
       "\n",
       "[5 rows x 40 columns]"
      ]
     },
     "execution_count": 19,
     "metadata": {},
     "output_type": "execute_result"
    }
   ],
   "source": [
    "# Create a OneHotEncoder instance\n",
    "enc = OneHotEncoder(sparse=False)\n",
    "\n",
    "# Fit and transform the OneHotEncoder using the categorical variable list\n",
    "encode_df = pd.DataFrame(enc.fit_transform(application_df[application_cat]))\n",
    "\n",
    "\n",
    "# Add the encoded variable names to the dataframe\n",
    "encode_df.columns = enc.get_feature_names(application_cat)\n",
    "encode_df.head()"
   ]
  },
  {
   "cell_type": "code",
   "execution_count": 20,
   "metadata": {},
   "outputs": [
    {
     "name": "stderr",
     "output_type": "stream",
     "text": [
      "C:\\Users\\Kyle\\anaconda3\\envs\\mlenv\\lib\\site-packages\\ipykernel_launcher.py:3: FutureWarning: In a future version of pandas all arguments of DataFrame.drop except for the argument 'labels' will be keyword-only\n",
      "  This is separate from the ipykernel package so we can avoid doing imports until\n"
     ]
    },
    {
     "data": {
      "text/html": [
       "<div>\n",
       "<style scoped>\n",
       "    .dataframe tbody tr th:only-of-type {\n",
       "        vertical-align: middle;\n",
       "    }\n",
       "\n",
       "    .dataframe tbody tr th {\n",
       "        vertical-align: top;\n",
       "    }\n",
       "\n",
       "    .dataframe thead th {\n",
       "        text-align: right;\n",
       "    }\n",
       "</style>\n",
       "<table border=\"1\" class=\"dataframe\">\n",
       "  <thead>\n",
       "    <tr style=\"text-align: right;\">\n",
       "      <th></th>\n",
       "      <th>STATUS</th>\n",
       "      <th>ASK_AMT</th>\n",
       "      <th>IS_SUCCESSFUL</th>\n",
       "      <th>APPLICATION_TYPE_Other</th>\n",
       "      <th>APPLICATION_TYPE_T10</th>\n",
       "      <th>APPLICATION_TYPE_T19</th>\n",
       "      <th>APPLICATION_TYPE_T3</th>\n",
       "      <th>APPLICATION_TYPE_T4</th>\n",
       "      <th>APPLICATION_TYPE_T5</th>\n",
       "      <th>APPLICATION_TYPE_T6</th>\n",
       "      <th>...</th>\n",
       "      <th>ORGANIZATION_Trust</th>\n",
       "      <th>INCOME_AMT_0</th>\n",
       "      <th>INCOME_AMT_1-9999</th>\n",
       "      <th>INCOME_AMT_10000-24999</th>\n",
       "      <th>INCOME_AMT_100000-499999</th>\n",
       "      <th>INCOME_AMT_10M-50M</th>\n",
       "      <th>INCOME_AMT_1M-5M</th>\n",
       "      <th>INCOME_AMT_25000-99999</th>\n",
       "      <th>INCOME_AMT_50M+</th>\n",
       "      <th>INCOME_AMT_5M-10M</th>\n",
       "    </tr>\n",
       "  </thead>\n",
       "  <tbody>\n",
       "    <tr>\n",
       "      <th>0</th>\n",
       "      <td>1</td>\n",
       "      <td>5000</td>\n",
       "      <td>1</td>\n",
       "      <td>0.0</td>\n",
       "      <td>1.0</td>\n",
       "      <td>0.0</td>\n",
       "      <td>0.0</td>\n",
       "      <td>0.0</td>\n",
       "      <td>0.0</td>\n",
       "      <td>0.0</td>\n",
       "      <td>...</td>\n",
       "      <td>0.0</td>\n",
       "      <td>1.0</td>\n",
       "      <td>0.0</td>\n",
       "      <td>0.0</td>\n",
       "      <td>0.0</td>\n",
       "      <td>0.0</td>\n",
       "      <td>0.0</td>\n",
       "      <td>0.0</td>\n",
       "      <td>0.0</td>\n",
       "      <td>0.0</td>\n",
       "    </tr>\n",
       "    <tr>\n",
       "      <th>1</th>\n",
       "      <td>1</td>\n",
       "      <td>108590</td>\n",
       "      <td>1</td>\n",
       "      <td>0.0</td>\n",
       "      <td>0.0</td>\n",
       "      <td>0.0</td>\n",
       "      <td>1.0</td>\n",
       "      <td>0.0</td>\n",
       "      <td>0.0</td>\n",
       "      <td>0.0</td>\n",
       "      <td>...</td>\n",
       "      <td>0.0</td>\n",
       "      <td>0.0</td>\n",
       "      <td>1.0</td>\n",
       "      <td>0.0</td>\n",
       "      <td>0.0</td>\n",
       "      <td>0.0</td>\n",
       "      <td>0.0</td>\n",
       "      <td>0.0</td>\n",
       "      <td>0.0</td>\n",
       "      <td>0.0</td>\n",
       "    </tr>\n",
       "    <tr>\n",
       "      <th>2</th>\n",
       "      <td>1</td>\n",
       "      <td>5000</td>\n",
       "      <td>0</td>\n",
       "      <td>0.0</td>\n",
       "      <td>0.0</td>\n",
       "      <td>0.0</td>\n",
       "      <td>0.0</td>\n",
       "      <td>0.0</td>\n",
       "      <td>1.0</td>\n",
       "      <td>0.0</td>\n",
       "      <td>...</td>\n",
       "      <td>0.0</td>\n",
       "      <td>1.0</td>\n",
       "      <td>0.0</td>\n",
       "      <td>0.0</td>\n",
       "      <td>0.0</td>\n",
       "      <td>0.0</td>\n",
       "      <td>0.0</td>\n",
       "      <td>0.0</td>\n",
       "      <td>0.0</td>\n",
       "      <td>0.0</td>\n",
       "    </tr>\n",
       "    <tr>\n",
       "      <th>3</th>\n",
       "      <td>1</td>\n",
       "      <td>6692</td>\n",
       "      <td>1</td>\n",
       "      <td>0.0</td>\n",
       "      <td>0.0</td>\n",
       "      <td>0.0</td>\n",
       "      <td>1.0</td>\n",
       "      <td>0.0</td>\n",
       "      <td>0.0</td>\n",
       "      <td>0.0</td>\n",
       "      <td>...</td>\n",
       "      <td>1.0</td>\n",
       "      <td>0.0</td>\n",
       "      <td>0.0</td>\n",
       "      <td>1.0</td>\n",
       "      <td>0.0</td>\n",
       "      <td>0.0</td>\n",
       "      <td>0.0</td>\n",
       "      <td>0.0</td>\n",
       "      <td>0.0</td>\n",
       "      <td>0.0</td>\n",
       "    </tr>\n",
       "    <tr>\n",
       "      <th>4</th>\n",
       "      <td>1</td>\n",
       "      <td>142590</td>\n",
       "      <td>1</td>\n",
       "      <td>0.0</td>\n",
       "      <td>0.0</td>\n",
       "      <td>0.0</td>\n",
       "      <td>1.0</td>\n",
       "      <td>0.0</td>\n",
       "      <td>0.0</td>\n",
       "      <td>0.0</td>\n",
       "      <td>...</td>\n",
       "      <td>1.0</td>\n",
       "      <td>0.0</td>\n",
       "      <td>0.0</td>\n",
       "      <td>0.0</td>\n",
       "      <td>1.0</td>\n",
       "      <td>0.0</td>\n",
       "      <td>0.0</td>\n",
       "      <td>0.0</td>\n",
       "      <td>0.0</td>\n",
       "      <td>0.0</td>\n",
       "    </tr>\n",
       "  </tbody>\n",
       "</table>\n",
       "<p>5 rows × 43 columns</p>\n",
       "</div>"
      ],
      "text/plain": [
       "   STATUS  ASK_AMT  IS_SUCCESSFUL  APPLICATION_TYPE_Other  \\\n",
       "0       1     5000              1                     0.0   \n",
       "1       1   108590              1                     0.0   \n",
       "2       1     5000              0                     0.0   \n",
       "3       1     6692              1                     0.0   \n",
       "4       1   142590              1                     0.0   \n",
       "\n",
       "   APPLICATION_TYPE_T10  APPLICATION_TYPE_T19  APPLICATION_TYPE_T3  \\\n",
       "0                   1.0                   0.0                  0.0   \n",
       "1                   0.0                   0.0                  1.0   \n",
       "2                   0.0                   0.0                  0.0   \n",
       "3                   0.0                   0.0                  1.0   \n",
       "4                   0.0                   0.0                  1.0   \n",
       "\n",
       "   APPLICATION_TYPE_T4  APPLICATION_TYPE_T5  APPLICATION_TYPE_T6  ...  \\\n",
       "0                  0.0                  0.0                  0.0  ...   \n",
       "1                  0.0                  0.0                  0.0  ...   \n",
       "2                  0.0                  1.0                  0.0  ...   \n",
       "3                  0.0                  0.0                  0.0  ...   \n",
       "4                  0.0                  0.0                  0.0  ...   \n",
       "\n",
       "   ORGANIZATION_Trust  INCOME_AMT_0  INCOME_AMT_1-9999  \\\n",
       "0                 0.0           1.0                0.0   \n",
       "1                 0.0           0.0                1.0   \n",
       "2                 0.0           1.0                0.0   \n",
       "3                 1.0           0.0                0.0   \n",
       "4                 1.0           0.0                0.0   \n",
       "\n",
       "   INCOME_AMT_10000-24999  INCOME_AMT_100000-499999  INCOME_AMT_10M-50M  \\\n",
       "0                     0.0                       0.0                 0.0   \n",
       "1                     0.0                       0.0                 0.0   \n",
       "2                     0.0                       0.0                 0.0   \n",
       "3                     1.0                       0.0                 0.0   \n",
       "4                     0.0                       1.0                 0.0   \n",
       "\n",
       "   INCOME_AMT_1M-5M  INCOME_AMT_25000-99999  INCOME_AMT_50M+  \\\n",
       "0               0.0                     0.0              0.0   \n",
       "1               0.0                     0.0              0.0   \n",
       "2               0.0                     0.0              0.0   \n",
       "3               0.0                     0.0              0.0   \n",
       "4               0.0                     0.0              0.0   \n",
       "\n",
       "   INCOME_AMT_5M-10M  \n",
       "0                0.0  \n",
       "1                0.0  \n",
       "2                0.0  \n",
       "3                0.0  \n",
       "4                0.0  \n",
       "\n",
       "[5 rows x 43 columns]"
      ]
     },
     "execution_count": 20,
     "metadata": {},
     "output_type": "execute_result"
    }
   ],
   "source": [
    "# Merge one-hot encoded features and drop the originals\n",
    "application_df = application_df.merge(encode_df,left_index=True, right_index=True)\n",
    "application_df = application_df.drop(application_cat,1)\n",
    "application_df.head()"
   ]
  },
  {
   "cell_type": "code",
   "execution_count": 21,
   "metadata": {},
   "outputs": [
    {
     "name": "stderr",
     "output_type": "stream",
     "text": [
      "C:\\Users\\Kyle\\anaconda3\\envs\\mlenv\\lib\\site-packages\\ipykernel_launcher.py:3: FutureWarning: In a future version of pandas all arguments of DataFrame.drop except for the argument 'labels' will be keyword-only\n",
      "  This is separate from the ipykernel package so we can avoid doing imports until\n"
     ]
    }
   ],
   "source": [
    "# Split our preprocessed data into our features and target arrays\n",
    "y = application_df[\"IS_SUCCESSFUL\"].values\n",
    "X = application_df.drop([\"IS_SUCCESSFUL\"],1).values\n",
    "\n",
    "# Split the preprocessed data into a training and testing dataset\n",
    "X_train, X_test, y_train, y_test = train_test_split(X, y, random_state=34)"
   ]
  },
  {
   "cell_type": "code",
   "execution_count": 22,
   "metadata": {},
   "outputs": [],
   "source": [
    "# Create a StandardScaler instances\n",
    "scaler = StandardScaler()\n",
    "\n",
    "# Fit the StandardScaler\n",
    "X_scaler = scaler.fit(X_train)\n",
    "\n",
    "# Scale the data\n",
    "X_train_scaled = X_scaler.transform(X_train)\n",
    "X_test_scaled = X_scaler.transform(X_test)"
   ]
  },
  {
   "cell_type": "markdown",
   "metadata": {},
   "source": [
    "### Deliverable 2: Compile, Train and Evaluate the Model"
   ]
  },
  {
   "cell_type": "code",
   "execution_count": 23,
   "metadata": {},
   "outputs": [
    {
     "name": "stdout",
     "output_type": "stream",
     "text": [
      "Model: \"sequential\"\n",
      "_________________________________________________________________\n",
      " Layer (type)                Output Shape              Param #   \n",
      "=================================================================\n",
      " dense (Dense)               (None, 80)                3440      \n",
      "                                                                 \n",
      " dense_1 (Dense)             (None, 20)                1620      \n",
      "                                                                 \n",
      " dense_2 (Dense)             (None, 4)                 84        \n",
      "                                                                 \n",
      " dense_3 (Dense)             (None, 1)                 5         \n",
      "                                                                 \n",
      "=================================================================\n",
      "Total params: 5,149\n",
      "Trainable params: 5,149\n",
      "Non-trainable params: 0\n",
      "_________________________________________________________________\n"
     ]
    }
   ],
   "source": [
    "# Define the model - deep neural net, i.e., the number of input features and hidden nodes for each layer.\n",
    "number_input_features = len(X_train[0])\n",
    "hidden_nodes_layer1 = 80\n",
    "hidden_nodes_layer2 = 20\n",
    "hidden_nodes_layer3 = 4\n",
    "\n",
    "nn = tf.keras.models.Sequential()\n",
    "\n",
    "# First hidden layer\n",
    "nn.add(\n",
    "    tf.keras.layers.Dense(units=hidden_nodes_layer1, input_dim=number_input_features, activation=\"relu\")\n",
    ")\n",
    "\n",
    "# Second hidden layer\n",
    "nn.add(tf.keras.layers.Dense(units=hidden_nodes_layer2, activation=\"tanh\"))\n",
    "\n",
    "# Third hidden layer\n",
    "nn.add(tf.keras.layers.Dense(units=hidden_nodes_layer3, activation=\"sigmoid\"))\n",
    "\n",
    "# Output layer\n",
    "nn.add(tf.keras.layers.Dense(units=1, activation=\"sigmoid\"))\n",
    "\n",
    "# Check the structure of the model\n",
    "nn.summary()"
   ]
  },
  {
   "cell_type": "code",
   "execution_count": 24,
   "metadata": {},
   "outputs": [],
   "source": [
    "# Compile the model\n",
    "nn.compile(loss=\"binary_crossentropy\", optimizer=\"adam\", metrics=[\"accuracy\"])"
   ]
  },
  {
   "cell_type": "code",
   "execution_count": 25,
   "metadata": {},
   "outputs": [],
   "source": [
    "# Import checkpoint dependencies\n",
    "import os\n",
    "from tensorflow.keras.callbacks import ModelCheckpoint\n",
    "\n",
    "# Define the checkpoint path and filenames\n",
    "os.makedirs(\"checkpoints/\",exist_ok=True)\n",
    "checkpoint_path = \"checkpoints/Optweights.{epoch:02d}.hdf5\""
   ]
  },
  {
   "cell_type": "code",
   "execution_count": 26,
   "metadata": {},
   "outputs": [
    {
     "name": "stdout",
     "output_type": "stream",
     "text": [
      "WARNING:tensorflow:`period` argument is deprecated. Please use `save_freq` to specify the frequency in number of batches seen.\n"
     ]
    }
   ],
   "source": [
    "# Create a callback that saves the model's weights every epoch\n",
    "cp_callback = ModelCheckpoint(\n",
    "    filepath=checkpoint_path,\n",
    "    verbose=1,\n",
    "    save_weights_only=True,\n",
    "    save_freq='epoch',\n",
    "    period=5\n",
    ")"
   ]
  },
  {
   "cell_type": "code",
   "execution_count": 27,
   "metadata": {},
   "outputs": [
    {
     "name": "stdout",
     "output_type": "stream",
     "text": [
      "Epoch 1/120\n",
      "798/798 [==============================] - 1s 770us/step - loss: 0.7002 - accuracy: 0.5198\n",
      "Epoch 2/120\n",
      "798/798 [==============================] - 1s 702us/step - loss: 0.6889 - accuracy: 0.5420\n",
      "Epoch 3/120\n",
      "798/798 [==============================] - 1s 698us/step - loss: 0.6883 - accuracy: 0.5468\n",
      "Epoch 4/120\n",
      "798/798 [==============================] - 1s 701us/step - loss: 0.6875 - accuracy: 0.5489\n",
      "Epoch 5/120\n",
      "775/798 [============================>.] - ETA: 0s - loss: 0.6869 - accuracy: 0.5492\n",
      "Epoch 00005: saving model to checkpoints\\Optweights.05.hdf5\n",
      "798/798 [==============================] - 1s 733us/step - loss: 0.6870 - accuracy: 0.5485\n",
      "Epoch 6/120\n",
      "798/798 [==============================] - 1s 697us/step - loss: 0.6866 - accuracy: 0.5514\n",
      "Epoch 7/120\n",
      "798/798 [==============================] - 1s 785us/step - loss: 0.6860 - accuracy: 0.5525\n",
      "Epoch 8/120\n",
      "798/798 [==============================] - 1s 800us/step - loss: 0.6857 - accuracy: 0.5509\n",
      "Epoch 9/120\n",
      "798/798 [==============================] - 1s 812us/step - loss: 0.6855 - accuracy: 0.5514\n",
      "Epoch 10/120\n",
      "740/798 [==========================>...] - ETA: 0s - loss: 0.6851 - accuracy: 0.5525\n",
      "Epoch 00010: saving model to checkpoints\\Optweights.10.hdf5\n",
      "798/798 [==============================] - 1s 826us/step - loss: 0.6850 - accuracy: 0.5527\n",
      "Epoch 11/120\n",
      "798/798 [==============================] - 1s 817us/step - loss: 0.6848 - accuracy: 0.5543\n",
      "Epoch 12/120\n",
      "798/798 [==============================] - 1s 840us/step - loss: 0.6845 - accuracy: 0.5551\n",
      "Epoch 13/120\n",
      "798/798 [==============================] - 1s 755us/step - loss: 0.6840 - accuracy: 0.5554\n",
      "Epoch 14/120\n",
      "798/798 [==============================] - 1s 750us/step - loss: 0.6839 - accuracy: 0.5563\n",
      "Epoch 15/120\n",
      "730/798 [==========================>...] - ETA: 0s - loss: 0.6834 - accuracy: 0.5583\n",
      "Epoch 00015: saving model to checkpoints\\Optweights.15.hdf5\n",
      "798/798 [==============================] - 1s 708us/step - loss: 0.6836 - accuracy: 0.5572\n",
      "Epoch 16/120\n",
      "798/798 [==============================] - 1s 699us/step - loss: 0.6833 - accuracy: 0.5568\n",
      "Epoch 17/120\n",
      "798/798 [==============================] - 1s 702us/step - loss: 0.6830 - accuracy: 0.5569\n",
      "Epoch 18/120\n",
      "798/798 [==============================] - 1s 700us/step - loss: 0.6827 - accuracy: 0.5571\n",
      "Epoch 19/120\n",
      "798/798 [==============================] - 1s 719us/step - loss: 0.6825 - accuracy: 0.5565\n",
      "Epoch 20/120\n",
      "728/798 [==========================>...] - ETA: 0s - loss: 0.6820 - accuracy: 0.5594\n",
      "Epoch 00020: saving model to checkpoints\\Optweights.20.hdf5\n",
      "798/798 [==============================] - 1s 705us/step - loss: 0.6822 - accuracy: 0.5590\n",
      "Epoch 21/120\n",
      "798/798 [==============================] - 1s 691us/step - loss: 0.6820 - accuracy: 0.5570\n",
      "Epoch 22/120\n",
      "798/798 [==============================] - 1s 694us/step - loss: 0.6818 - accuracy: 0.5550\n",
      "Epoch 23/120\n",
      "798/798 [==============================] - 1s 692us/step - loss: 0.6815 - accuracy: 0.5588\n",
      "Epoch 24/120\n",
      "798/798 [==============================] - 1s 701us/step - loss: 0.6814 - accuracy: 0.5592\n",
      "Epoch 25/120\n",
      "733/798 [==========================>...] - ETA: 0s - loss: 0.6814 - accuracy: 0.5569\n",
      "Epoch 00025: saving model to checkpoints\\Optweights.25.hdf5\n",
      "798/798 [==============================] - 1s 703us/step - loss: 0.6811 - accuracy: 0.5578\n",
      "Epoch 26/120\n",
      "798/798 [==============================] - 1s 700us/step - loss: 0.6810 - accuracy: 0.5584\n",
      "Epoch 27/120\n",
      "798/798 [==============================] - 1s 696us/step - loss: 0.6808 - accuracy: 0.5577\n",
      "Epoch 28/120\n",
      "798/798 [==============================] - 1s 693us/step - loss: 0.6807 - accuracy: 0.5604\n",
      "Epoch 29/120\n",
      "798/798 [==============================] - 1s 692us/step - loss: 0.6804 - accuracy: 0.5597\n",
      "Epoch 30/120\n",
      "791/798 [============================>.] - ETA: 0s - loss: 0.6802 - accuracy: 0.5600\n",
      "Epoch 00030: saving model to checkpoints\\Optweights.30.hdf5\n",
      "798/798 [==============================] - 1s 718us/step - loss: 0.6802 - accuracy: 0.5598\n",
      "Epoch 31/120\n",
      "798/798 [==============================] - 1s 692us/step - loss: 0.6803 - accuracy: 0.5606\n",
      "Epoch 32/120\n",
      "798/798 [==============================] - 1s 696us/step - loss: 0.6800 - accuracy: 0.5591\n",
      "Epoch 33/120\n",
      "798/798 [==============================] - 1s 692us/step - loss: 0.6799 - accuracy: 0.5599\n",
      "Epoch 34/120\n",
      "798/798 [==============================] - 1s 701us/step - loss: 0.6797 - accuracy: 0.5613\n",
      "Epoch 35/120\n",
      "794/798 [============================>.] - ETA: 0s - loss: 0.6795 - accuracy: 0.5619\n",
      "Epoch 00035: saving model to checkpoints\\Optweights.35.hdf5\n",
      "798/798 [==============================] - 1s 713us/step - loss: 0.6796 - accuracy: 0.5617\n",
      "Epoch 36/120\n",
      "798/798 [==============================] - 1s 693us/step - loss: 0.6794 - accuracy: 0.5609\n",
      "Epoch 37/120\n",
      "798/798 [==============================] - 1s 710us/step - loss: 0.6794 - accuracy: 0.5612\n",
      "Epoch 38/120\n",
      "798/798 [==============================] - 1s 696us/step - loss: 0.6791 - accuracy: 0.5625\n",
      "Epoch 39/120\n",
      "798/798 [==============================] - 1s 700us/step - loss: 0.6789 - accuracy: 0.5602\n",
      "Epoch 40/120\n",
      "792/798 [============================>.] - ETA: 0s - loss: 0.6789 - accuracy: 0.5614\n",
      "Epoch 00040: saving model to checkpoints\\Optweights.40.hdf5\n",
      "798/798 [==============================] - 1s 716us/step - loss: 0.6789 - accuracy: 0.5616\n",
      "Epoch 41/120\n",
      "798/798 [==============================] - 1s 705us/step - loss: 0.6791 - accuracy: 0.5603\n",
      "Epoch 42/120\n",
      "798/798 [==============================] - 1s 699us/step - loss: 0.6785 - accuracy: 0.5619\n",
      "Epoch 43/120\n",
      "798/798 [==============================] - 1s 740us/step - loss: 0.6786 - accuracy: 0.5607\n",
      "Epoch 44/120\n",
      "798/798 [==============================] - 1s 700us/step - loss: 0.6784 - accuracy: 0.5636\n",
      "Epoch 45/120\n",
      "765/798 [===========================>..] - ETA: 0s - loss: 0.6783 - accuracy: 0.5629\n",
      "Epoch 00045: saving model to checkpoints\\Optweights.45.hdf5\n",
      "798/798 [==============================] - 1s 739us/step - loss: 0.6784 - accuracy: 0.5625\n",
      "Epoch 46/120\n",
      "798/798 [==============================] - 1s 713us/step - loss: 0.6787 - accuracy: 0.5603\n",
      "Epoch 47/120\n",
      "798/798 [==============================] - 1s 714us/step - loss: 0.6781 - accuracy: 0.5634\n",
      "Epoch 48/120\n",
      "798/798 [==============================] - 1s 695us/step - loss: 0.6781 - accuracy: 0.5620\n",
      "Epoch 49/120\n",
      "798/798 [==============================] - 1s 703us/step - loss: 0.6779 - accuracy: 0.5627\n",
      "Epoch 50/120\n",
      "728/798 [==========================>...] - ETA: 0s - loss: 0.6781 - accuracy: 0.5626\n",
      "Epoch 00050: saving model to checkpoints\\Optweights.50.hdf5\n",
      "798/798 [==============================] - 1s 705us/step - loss: 0.6778 - accuracy: 0.5640\n",
      "Epoch 51/120\n",
      "798/798 [==============================] - 1s 705us/step - loss: 0.6775 - accuracy: 0.5615\n",
      "Epoch 52/120\n",
      "798/798 [==============================] - 1s 693us/step - loss: 0.6775 - accuracy: 0.5628\n",
      "Epoch 53/120\n",
      "798/798 [==============================] - 1s 695us/step - loss: 0.6773 - accuracy: 0.5639\n",
      "Epoch 54/120\n",
      "798/798 [==============================] - 1s 696us/step - loss: 0.6773 - accuracy: 0.5627\n",
      "Epoch 55/120\n",
      "795/798 [============================>.] - ETA: 0s - loss: 0.6771 - accuracy: 0.5630\n",
      "Epoch 00055: saving model to checkpoints\\Optweights.55.hdf5\n",
      "798/798 [==============================] - 1s 713us/step - loss: 0.6771 - accuracy: 0.5630\n",
      "Epoch 56/120\n",
      "798/798 [==============================] - 1s 696us/step - loss: 0.6769 - accuracy: 0.5643\n",
      "Epoch 57/120\n",
      "798/798 [==============================] - 1s 726us/step - loss: 0.6769 - accuracy: 0.5632\n",
      "Epoch 58/120\n",
      "798/798 [==============================] - 1s 787us/step - loss: 0.6767 - accuracy: 0.5626\n",
      "Epoch 59/120\n",
      "798/798 [==============================] - 1s 693us/step - loss: 0.6766 - accuracy: 0.5646\n",
      "Epoch 60/120\n",
      "733/798 [==========================>...] - ETA: 0s - loss: 0.6766 - accuracy: 0.5639\n",
      "Epoch 00060: saving model to checkpoints\\Optweights.60.hdf5\n",
      "798/798 [==============================] - 1s 702us/step - loss: 0.6765 - accuracy: 0.5639\n",
      "Epoch 61/120\n",
      "798/798 [==============================] - 1s 695us/step - loss: 0.6765 - accuracy: 0.5621\n",
      "Epoch 62/120\n",
      "798/798 [==============================] - 1s 790us/step - loss: 0.6763 - accuracy: 0.5649\n",
      "Epoch 63/120\n"
     ]
    },
    {
     "name": "stdout",
     "output_type": "stream",
     "text": [
      "798/798 [==============================] - 1s 717us/step - loss: 0.6770 - accuracy: 0.5642\n",
      "Epoch 64/120\n",
      "798/798 [==============================] - 1s 705us/step - loss: 0.6765 - accuracy: 0.5615\n",
      "Epoch 65/120\n",
      "738/798 [==========================>...] - ETA: 0s - loss: 0.6759 - accuracy: 0.5636\n",
      "Epoch 00065: saving model to checkpoints\\Optweights.65.hdf5\n",
      "798/798 [==============================] - 1s 698us/step - loss: 0.6758 - accuracy: 0.5639\n",
      "Epoch 66/120\n",
      "798/798 [==============================] - 1s 693us/step - loss: 0.6763 - accuracy: 0.5632\n",
      "Epoch 67/120\n",
      "798/798 [==============================] - 1s 721us/step - loss: 0.6761 - accuracy: 0.5638\n",
      "Epoch 68/120\n",
      "798/798 [==============================] - 1s 759us/step - loss: 0.6760 - accuracy: 0.5639\n",
      "Epoch 69/120\n",
      "798/798 [==============================] - 1s 734us/step - loss: 0.6757 - accuracy: 0.5644\n",
      "Epoch 70/120\n",
      "790/798 [============================>.] - ETA: 0s - loss: 0.6759 - accuracy: 0.5655\n",
      "Epoch 00070: saving model to checkpoints\\Optweights.70.hdf5\n",
      "798/798 [==============================] - 1s 718us/step - loss: 0.6759 - accuracy: 0.5657\n",
      "Epoch 71/120\n",
      "798/798 [==============================] - 1s 696us/step - loss: 0.6757 - accuracy: 0.5652\n",
      "Epoch 72/120\n",
      "798/798 [==============================] - 1s 711us/step - loss: 0.6756 - accuracy: 0.5647\n",
      "Epoch 73/120\n",
      "798/798 [==============================] - 1s 702us/step - loss: 0.6757 - accuracy: 0.5657\n",
      "Epoch 74/120\n",
      "798/798 [==============================] - 1s 696us/step - loss: 0.6757 - accuracy: 0.5639\n",
      "Epoch 75/120\n",
      "792/798 [============================>.] - ETA: 0s - loss: 0.6758 - accuracy: 0.5642\n",
      "Epoch 00075: saving model to checkpoints\\Optweights.75.hdf5\n",
      "798/798 [==============================] - 1s 715us/step - loss: 0.6758 - accuracy: 0.5640\n",
      "Epoch 76/120\n",
      "798/798 [==============================] - 1s 699us/step - loss: 0.6756 - accuracy: 0.5649\n",
      "Epoch 77/120\n",
      "798/798 [==============================] - 1s 711us/step - loss: 0.6755 - accuracy: 0.5664\n",
      "Epoch 78/120\n",
      "798/798 [==============================] - 1s 720us/step - loss: 0.6758 - accuracy: 0.5645\n",
      "Epoch 79/120\n",
      "798/798 [==============================] - 1s 705us/step - loss: 0.6752 - accuracy: 0.5662\n",
      "Epoch 80/120\n",
      "785/798 [============================>.] - ETA: 0s - loss: 0.6749 - accuracy: 0.5652\n",
      "Epoch 00080: saving model to checkpoints\\Optweights.80.hdf5\n",
      "798/798 [==============================] - 1s 723us/step - loss: 0.6749 - accuracy: 0.5650\n",
      "Epoch 81/120\n",
      "798/798 [==============================] - 1s 698us/step - loss: 0.6752 - accuracy: 0.5635\n",
      "Epoch 82/120\n",
      "798/798 [==============================] - 1s 710us/step - loss: 0.6751 - accuracy: 0.5645\n",
      "Epoch 83/120\n",
      "798/798 [==============================] - 1s 716us/step - loss: 0.6754 - accuracy: 0.5656\n",
      "Epoch 84/120\n",
      "798/798 [==============================] - 1s 713us/step - loss: 0.6748 - accuracy: 0.5666\n",
      "Epoch 85/120\n",
      "798/798 [==============================] - ETA: 0s - loss: 0.6752 - accuracy: 0.5651\n",
      "Epoch 00085: saving model to checkpoints\\Optweights.85.hdf5\n",
      "798/798 [==============================] - 1s 710us/step - loss: 0.6752 - accuracy: 0.5651\n",
      "Epoch 86/120\n",
      "798/798 [==============================] - 1s 698us/step - loss: 0.6748 - accuracy: 0.5670\n",
      "Epoch 87/120\n",
      "798/798 [==============================] - 1s 736us/step - loss: 0.6746 - accuracy: 0.5643\n",
      "Epoch 88/120\n",
      "798/798 [==============================] - 1s 701us/step - loss: 0.6748 - accuracy: 0.5670\n",
      "Epoch 89/120\n",
      "798/798 [==============================] - 1s 757us/step - loss: 0.6748 - accuracy: 0.5662\n",
      "Epoch 90/120\n",
      "727/798 [==========================>...] - ETA: 0s - loss: 0.6745 - accuracy: 0.5640\n",
      "Epoch 00090: saving model to checkpoints\\Optweights.90.hdf5\n",
      "798/798 [==============================] - 1s 706us/step - loss: 0.6745 - accuracy: 0.5657\n",
      "Epoch 91/120\n",
      "798/798 [==============================] - 1s 713us/step - loss: 0.6746 - accuracy: 0.5653\n",
      "Epoch 92/120\n",
      "798/798 [==============================] - 1s 722us/step - loss: 0.6744 - accuracy: 0.5657\n",
      "Epoch 93/120\n",
      "798/798 [==============================] - 1s 697us/step - loss: 0.6740 - accuracy: 0.5675\n",
      "Epoch 94/120\n",
      "798/798 [==============================] - 1s 734us/step - loss: 0.6740 - accuracy: 0.5663\n",
      "Epoch 95/120\n",
      "798/798 [==============================] - ETA: 0s - loss: 0.6743 - accuracy: 0.5658\n",
      "Epoch 00095: saving model to checkpoints\\Optweights.95.hdf5\n",
      "798/798 [==============================] - 1s 710us/step - loss: 0.6743 - accuracy: 0.5658\n",
      "Epoch 96/120\n",
      "798/798 [==============================] - 1s 731us/step - loss: 0.6742 - accuracy: 0.5672\n",
      "Epoch 97/120\n",
      "798/798 [==============================] - 1s 775us/step - loss: 0.6743 - accuracy: 0.5674\n",
      "Epoch 98/120\n",
      "798/798 [==============================] - 1s 739us/step - loss: 0.6744 - accuracy: 0.5671\n",
      "Epoch 99/120\n",
      "798/798 [==============================] - 1s 737us/step - loss: 0.6739 - accuracy: 0.5677\n",
      "Epoch 100/120\n",
      "787/798 [============================>.] - ETA: 0s - loss: 0.6741 - accuracy: 0.5666\n",
      "Epoch 00100: saving model to checkpoints\\Optweights.100.hdf5\n",
      "798/798 [==============================] - 1s 848us/step - loss: 0.6741 - accuracy: 0.5665\n",
      "Epoch 101/120\n",
      "798/798 [==============================] - 1s 802us/step - loss: 0.6742 - accuracy: 0.5664\n",
      "Epoch 102/120\n",
      "798/798 [==============================] - 1s 807us/step - loss: 0.6745 - accuracy: 0.5668\n",
      "Epoch 103/120\n",
      "798/798 [==============================] - 1s 792us/step - loss: 0.6740 - accuracy: 0.5675\n",
      "Epoch 104/120\n",
      "798/798 [==============================] - 1s 817us/step - loss: 0.6734 - accuracy: 0.5682\n",
      "Epoch 105/120\n",
      "770/798 [===========================>..] - ETA: 0s - loss: 0.6742 - accuracy: 0.5662\n",
      "Epoch 00105: saving model to checkpoints\\Optweights.105.hdf5\n",
      "798/798 [==============================] - 1s 738us/step - loss: 0.6740 - accuracy: 0.5662\n",
      "Epoch 106/120\n",
      "798/798 [==============================] - 1s 761us/step - loss: 0.6737 - accuracy: 0.5687\n",
      "Epoch 107/120\n",
      "798/798 [==============================] - 1s 828us/step - loss: 0.6735 - accuracy: 0.5696\n",
      "Epoch 108/120\n",
      "798/798 [==============================] - 1s 773us/step - loss: 0.6734 - accuracy: 0.5666\n",
      "Epoch 109/120\n",
      "798/798 [==============================] - 1s 748us/step - loss: 0.6734 - accuracy: 0.5668\n",
      "Epoch 110/120\n",
      "738/798 [==========================>...] - ETA: 0s - loss: 0.6733 - accuracy: 0.5662\n",
      "Epoch 00110: saving model to checkpoints\\Optweights.110.hdf5\n",
      "798/798 [==============================] - 1s 700us/step - loss: 0.6735 - accuracy: 0.5662\n",
      "Epoch 111/120\n",
      "798/798 [==============================] - 1s 697us/step - loss: 0.6733 - accuracy: 0.5666\n",
      "Epoch 112/120\n",
      "798/798 [==============================] - 1s 691us/step - loss: 0.6733 - accuracy: 0.5679\n",
      "Epoch 113/120\n",
      "798/798 [==============================] - 1s 718us/step - loss: 0.6729 - accuracy: 0.5678\n",
      "Epoch 114/120\n",
      "798/798 [==============================] - 1s 795us/step - loss: 0.6733 - accuracy: 0.5686\n",
      "Epoch 115/120\n",
      "737/798 [==========================>...] - ETA: 0s - loss: 0.6729 - accuracy: 0.5689\n",
      "Epoch 00115: saving model to checkpoints\\Optweights.115.hdf5\n",
      "798/798 [==============================] - 1s 698us/step - loss: 0.6734 - accuracy: 0.5680\n",
      "Epoch 116/120\n",
      "798/798 [==============================] - 1s 696us/step - loss: 0.6732 - accuracy: 0.5658\n",
      "Epoch 117/120\n",
      "798/798 [==============================] - 1s 696us/step - loss: 0.6732 - accuracy: 0.5675\n",
      "Epoch 118/120\n",
      "798/798 [==============================] - 1s 725us/step - loss: 0.6735 - accuracy: 0.5666\n",
      "Epoch 119/120\n",
      "798/798 [==============================] - 1s 702us/step - loss: 0.6728 - accuracy: 0.5659\n",
      "Epoch 120/120\n",
      "730/798 [==========================>...] - ETA: 0s - loss: 0.6737 - accuracy: 0.5661\n",
      "Epoch 00120: saving model to checkpoints\\Optweights.120.hdf5\n",
      "798/798 [==============================] - 1s 703us/step - loss: 0.6736 - accuracy: 0.5666\n"
     ]
    }
   ],
   "source": [
    "# Train the model\n",
    "fit_model = nn.fit(X_train_scaled,y_train,epochs=120,callbacks=[cp_callback])"
   ]
  },
  {
   "cell_type": "code",
   "execution_count": 28,
   "metadata": {},
   "outputs": [
    {
     "name": "stdout",
     "output_type": "stream",
     "text": [
      "266/266 - 0s - loss: 0.7025 - accuracy: 0.5482 - 468ms/epoch - 2ms/step\n",
      "Loss: 0.7024621367454529, Accuracy: 0.5481672883033752\n"
     ]
    }
   ],
   "source": [
    "# Evaluate the model using the test data\n",
    "model_loss, model_accuracy = nn.evaluate(X_test_scaled,y_test,verbose=2)\n",
    "print(f\"Loss: {model_loss}, Accuracy: {model_accuracy}\")"
   ]
  },
  {
   "cell_type": "code",
   "execution_count": 29,
   "metadata": {},
   "outputs": [],
   "source": [
    "nn.save(\"AlphabetSoupCharity_Optimization.h5\")"
   ]
  },
  {
   "cell_type": "code",
   "execution_count": 32,
   "metadata": {},
   "outputs": [
    {
     "data": {
      "text/plain": [
       "<AxesSubplot:xlabel='IS_SUCCESSFUL', ylabel='ASK_AMT'>"
      ]
     },
     "execution_count": 32,
     "metadata": {},
     "output_type": "execute_result"
    },
    {
     "data": {
      "image/png": "[encoded data removed]",
      "text/plain": [
       "<Figure size 432x288 with 1 Axes>"
      ]
     },
     "metadata": {
      "needs_background": "light"
     },
     "output_type": "display_data"
    }
   ],
   "source": [
    "application_df.plot.scatter(x=\"IS_SUCCESSFUL\", y=\"ASK_AMT\", colormap=\"winter\")"
   ]
  },
  {
   "cell_type": "code",
   "execution_count": null,
   "metadata": {},
   "outputs": [],
   "source": []
  }
 ],
 "metadata": {
  "kernelspec": {
   "display_name": "mlenv",
   "language": "python",
   "name": "mlenv"
  },
  "language_info": {
   "codemirror_mode": {
    "name": "ipython",
    "version": 3
   },
   "file_extension": ".py",
   "mimetype": "text/x-python",
   "name": "python",
   "nbconvert_exporter": "python",
   "pygments_lexer": "ipython3",
   "version": "3.7.11"
  }
 },
 "nbformat": 4,
 "nbformat_minor": 2
}
